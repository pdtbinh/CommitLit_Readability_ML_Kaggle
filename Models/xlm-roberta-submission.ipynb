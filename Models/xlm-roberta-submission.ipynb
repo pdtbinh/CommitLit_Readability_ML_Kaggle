{
 "cells": [
  {
   "cell_type": "code",
   "execution_count": 1,
   "id": "skilled-terrorism",
   "metadata": {
    "_cell_guid": "b1076dfc-b9ad-4769-8c92-a6c4dae69d19",
    "_uuid": "8f2839f25d086af736a60e9eeb907d3b93b6e0e5",
    "execution": {
     "iopub.execute_input": "2021-06-13T10:28:07.547898Z",
     "iopub.status.busy": "2021-06-13T10:28:07.547065Z",
     "iopub.status.idle": "2021-06-13T10:28:12.739133Z",
     "shell.execute_reply": "2021-06-13T10:28:12.738500Z",
     "shell.execute_reply.started": "2021-06-13T10:24:48.799995Z"
    },
    "papermill": {
     "duration": 5.21225,
     "end_time": "2021-06-13T10:28:12.739437",
     "exception": false,
     "start_time": "2021-06-13T10:28:07.527187",
     "status": "completed"
    },
    "tags": []
   },
   "outputs": [],
   "source": [
    "import re\n",
    "import os\n",
    "import numpy as np\n",
    "import pandas as pd\n",
    "import random\n",
    "import math\n",
    "import tensorflow as tf\n",
    "import logging\n",
    "from sklearn.metrics import mean_squared_error\n",
    "from sklearn.model_selection import KFold\n",
    "from tensorflow.keras import backend as K\n",
    "from transformers import RobertaTokenizerFast, TFXLMRobertaModel\n",
    "from kaggle_datasets import KaggleDatasets\n",
    "tf.get_logger().setLevel(logging.ERROR)\n",
    "from kaggle_datasets import KaggleDatasets\n",
    "from keras.layers import Bidirectional, Concatenate, Permute, Dot, Input, LSTM, Multiply, Embedding, Reshape, Flatten, Dropout, GRU, Dense\n",
    "from keras.layers import RepeatVector, Dense, Activation, Lambda, Softmax, Conv1D\n",
    "from keras.optimizers import Adam, SGD\n",
    "from keras.utils import to_categorical\n",
    "from keras.models import load_model, Model\n",
    "from tensorflow.keras.callbacks import ReduceLROnPlateau,ModelCheckpoint, EarlyStopping ,LearningRateScheduler"
   ]
  },
  {
   "cell_type": "code",
   "execution_count": 2,
   "id": "suspected-philip",
   "metadata": {
    "execution": {
     "iopub.execute_input": "2021-06-13T10:28:12.756075Z",
     "iopub.status.busy": "2021-06-13T10:28:12.755488Z",
     "iopub.status.idle": "2021-06-13T10:28:36.898645Z",
     "shell.execute_reply": "2021-06-13T10:28:36.897983Z",
     "shell.execute_reply.started": "2021-06-13T10:24:54.626725Z"
    },
    "papermill": {
     "duration": 24.152384,
     "end_time": "2021-06-13T10:28:36.898808",
     "exception": false,
     "start_time": "2021-06-13T10:28:12.746424",
     "status": "completed"
    },
    "tags": []
   },
   "outputs": [
    {
     "name": "stderr",
     "output_type": "stream",
     "text": [
      "All model checkpoint layers were used when initializing TFXLMRobertaModel.\n",
      "\n",
      "All the layers of TFXLMRobertaModel were initialized from the model checkpoint at ../input/initial-xlmroberta-large/roberta-large.\n",
      "If your task is similar to the task the model of the checkpoint was trained on, you can already use TFXLMRobertaModel for predictions without further training.\n"
     ]
    }
   ],
   "source": [
    "tokenizer = RobertaTokenizerFast.from_pretrained('../input/initial-tokenizer-large/tokenizer-large')\n",
    "roberta = TFXLMRobertaModel.from_pretrained('../input/initial-xlmroberta-large/roberta-large')"
   ]
  },
  {
   "cell_type": "code",
   "execution_count": 3,
   "id": "presidential-liabilities",
   "metadata": {
    "execution": {
     "iopub.execute_input": "2021-06-13T10:28:36.921263Z",
     "iopub.status.busy": "2021-06-13T10:28:36.920038Z",
     "iopub.status.idle": "2021-06-13T10:28:36.922883Z",
     "shell.execute_reply": "2021-06-13T10:28:36.922401Z",
     "shell.execute_reply.started": "2021-06-13T10:25:19.863976Z"
    },
    "papermill": {
     "duration": 0.016185,
     "end_time": "2021-06-13T10:28:36.923005",
     "exception": false,
     "start_time": "2021-06-13T10:28:36.906820",
     "status": "completed"
    },
    "tags": []
   },
   "outputs": [],
   "source": [
    "# Tokenize a bunch of texts\n",
    "def tokenize_texts(texts, tokenizer, max_len):\n",
    "    tok = tokenizer.batch_encode_plus(texts.tolist(), \n",
    "                                          padding='max_length', \n",
    "                                          max_length=max_len, \n",
    "                                          truncation=True, \n",
    "                                          return_tensors='np')\n",
    "    return tok['input_ids'], tok['attention_mask']\n",
    "\n",
    "# Prepare sets\n",
    "def prepare_sets(is_train_csv, tokenizer, max_len):\n",
    "    # Retrieve dataframes\n",
    "    df        = pd.read_csv('../input/commonlitreadabilityprize/' + is_train_csv)\n",
    "    \n",
    "    # Retrieve inputs: IDs and mask\n",
    "    excerpts  = df['excerpt']\n",
    "    tokenized = tokenize_texts(excerpts, tokenizer, max_len)\n",
    "    ids       = tokenized[0]\n",
    "    mask      = tokenized[1]\n",
    "    \n",
    "    # Retrieve labels\n",
    "    targets = None\n",
    "    if is_train_csv == 'train.csv':\n",
    "        targets   = np.array(df['target'])\n",
    "    \n",
    "    return ids, mask, targets, df"
   ]
  },
  {
   "cell_type": "code",
   "execution_count": 4,
   "id": "accessible-updating",
   "metadata": {
    "execution": {
     "iopub.execute_input": "2021-06-13T10:28:36.941906Z",
     "iopub.status.busy": "2021-06-13T10:28:36.941352Z",
     "iopub.status.idle": "2021-06-13T10:28:36.945377Z",
     "shell.execute_reply": "2021-06-13T10:28:36.944977Z",
     "shell.execute_reply.started": "2021-06-13T10:25:19.873397Z"
    },
    "papermill": {
     "duration": 0.015778,
     "end_time": "2021-06-13T10:28:36.945478",
     "exception": false,
     "start_time": "2021-06-13T10:28:36.929700",
     "status": "completed"
    },
    "tags": []
   },
   "outputs": [],
   "source": [
    "# Function to transform arrays to tensors\n",
    "def transform_to_tensors(x_train, x_val, y_train, y_val):\n",
    "    \n",
    "    train_dataset = (\n",
    "        tf.data.Dataset\n",
    "        .from_tensor_slices(({'input_1': x_train[0], 'input_2': x_train[1]}, y_train))\n",
    "        .shuffle(2048)\n",
    "        .batch(8)\n",
    "        .prefetch(tf.data.experimental.AUTOTUNE)\n",
    "    )\n",
    "    \n",
    "    valid_dataset = (\n",
    "        tf.data.Dataset\n",
    "        .from_tensor_slices(({'input_1': x_val[0], 'input_2': x_val[1]}, y_val))\n",
    "        .batch(8)\n",
    "        .prefetch(tf.data.experimental.AUTOTUNE)\n",
    "    )\n",
    "    \n",
    "    return train_dataset, valid_dataset\n"
   ]
  },
  {
   "cell_type": "code",
   "execution_count": 5,
   "id": "returning-south",
   "metadata": {
    "execution": {
     "iopub.execute_input": "2021-06-13T10:28:36.966398Z",
     "iopub.status.busy": "2021-06-13T10:28:36.965845Z",
     "iopub.status.idle": "2021-06-13T10:28:36.968903Z",
     "shell.execute_reply": "2021-06-13T10:28:36.968478Z",
     "shell.execute_reply.started": "2021-06-13T10:25:19.889044Z"
    },
    "papermill": {
     "duration": 0.016622,
     "end_time": "2021-06-13T10:28:36.969006",
     "exception": false,
     "start_time": "2021-06-13T10:28:36.952384",
     "status": "completed"
    },
    "tags": []
   },
   "outputs": [],
   "source": [
    "def create_model(max_len, learning_rate):\n",
    "    # Inputs: IDs and mask\n",
    "    ids = Input(shape=(max_len,), dtype='int64')\n",
    "    mask = Input(shape=(max_len,), dtype='int64')\n",
    "    \n",
    "    # Processing\n",
    "    x = roberta(input_ids=ids, attention_mask=mask)['last_hidden_state']\n",
    "    x = x[:, 0, :]\n",
    "    x = Dropout(0.2)(x)\n",
    "    x = Dense(1, activation='linear')(x)\n",
    "    \n",
    "    # Output\n",
    "    pred = x\n",
    "    \n",
    "    # Model\n",
    "    model = Model(inputs=[ids, mask], outputs=pred)\n",
    "    model.compile(optimizer = tf.keras.optimizers.Adam(lr = learning_rate),\n",
    "                  loss = [tf.keras.losses.MeanSquaredError()],\n",
    "                  metrics = [tf.keras.metrics.RootMeanSquaredError()])\n",
    "    return model"
   ]
  },
  {
   "cell_type": "code",
   "execution_count": 6,
   "id": "respected-candidate",
   "metadata": {
    "execution": {
     "iopub.execute_input": "2021-06-13T10:28:36.992478Z",
     "iopub.status.busy": "2021-06-13T10:28:36.987546Z",
     "iopub.status.idle": "2021-06-13T10:28:59.108032Z",
     "shell.execute_reply": "2021-06-13T10:28:59.107520Z",
     "shell.execute_reply.started": "2021-06-13T10:26:21.278499Z"
    },
    "papermill": {
     "duration": 22.132079,
     "end_time": "2021-06-13T10:28:59.108177",
     "exception": false,
     "start_time": "2021-06-13T10:28:36.976098",
     "status": "completed"
    },
    "tags": []
   },
   "outputs": [],
   "source": [
    "xlm = create_model(300, 1e-5)\n",
    "xlm.load_weights('../input/xlm-roberta/cp_xml_roberta_large.h5')\n",
    "\n",
    "test_set = prepare_sets('test.csv', tokenizer, 300)\n",
    "test_pred = xlm.predict([test_set[0], test_set[1]], test_set[2])"
   ]
  },
  {
   "cell_type": "code",
   "execution_count": 7,
   "id": "finnish-correspondence",
   "metadata": {
    "execution": {
     "iopub.execute_input": "2021-06-13T10:28:59.136759Z",
     "iopub.status.busy": "2021-06-13T10:28:59.136216Z",
     "iopub.status.idle": "2021-06-13T10:28:59.507538Z",
     "shell.execute_reply": "2021-06-13T10:28:59.506844Z",
     "shell.execute_reply.started": "2021-06-13T10:26:42.255544Z"
    },
    "papermill": {
     "duration": 0.38914,
     "end_time": "2021-06-13T10:28:59.507718",
     "exception": false,
     "start_time": "2021-06-13T10:28:59.118578",
     "status": "completed"
    },
    "tags": []
   },
   "outputs": [],
   "source": [
    "test_df = pd.read_csv('../input/commonlitreadabilityprize/test.csv')\n",
    "pred_df = {'id': test_df['id'], 'target': test_pred.reshape(-1)}\n",
    "pd.DataFrame(pred_df).to_csv('submission.csv', index=False)"
   ]
  },
  {
   "cell_type": "code",
   "execution_count": null,
   "id": "happy-cartoon",
   "metadata": {
    "papermill": {
     "duration": 0.00668,
     "end_time": "2021-06-13T10:28:59.522021",
     "exception": false,
     "start_time": "2021-06-13T10:28:59.515341",
     "status": "completed"
    },
    "tags": []
   },
   "outputs": [],
   "source": []
  }
 ],
 "metadata": {
  "kernelspec": {
   "display_name": "Python 3",
   "language": "python",
   "name": "python3"
  },
  "language_info": {
   "codemirror_mode": {
    "name": "ipython",
    "version": 3
   },
   "file_extension": ".py",
   "mimetype": "text/x-python",
   "name": "python",
   "nbconvert_exporter": "python",
   "pygments_lexer": "ipython3",
   "version": "3.7.10"
  },
  "papermill": {
   "default_parameters": {},
   "duration": 61.684801,
   "end_time": "2021-06-13T10:29:02.561130",
   "environment_variables": {},
   "exception": null,
   "input_path": "__notebook__.ipynb",
   "output_path": "__notebook__.ipynb",
   "parameters": {},
   "start_time": "2021-06-13T10:28:00.876329",
   "version": "2.3.3"
  }
 },
 "nbformat": 4,
 "nbformat_minor": 5
}
