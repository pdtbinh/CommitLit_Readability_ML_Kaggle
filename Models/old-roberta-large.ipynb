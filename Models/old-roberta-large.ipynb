{
 "cells": [
  {
   "cell_type": "code",
   "execution_count": 1,
   "id": "comprehensive-voice",
   "metadata": {
    "_cell_guid": "b1076dfc-b9ad-4769-8c92-a6c4dae69d19",
    "_uuid": "8f2839f25d086af736a60e9eeb907d3b93b6e0e5",
    "execution": {
     "iopub.execute_input": "2021-06-09T01:05:14.483995Z",
     "iopub.status.busy": "2021-06-09T01:05:14.483372Z",
     "iopub.status.idle": "2021-06-09T01:05:20.041980Z",
     "shell.execute_reply": "2021-06-09T01:05:20.041419Z"
    },
    "papermill": {
     "duration": 5.578043,
     "end_time": "2021-06-09T01:05:20.042152",
     "exception": false,
     "start_time": "2021-06-09T01:05:14.464109",
     "status": "completed"
    },
    "tags": []
   },
   "outputs": [],
   "source": [
    "import re\n",
    "import os\n",
    "import numpy as np\n",
    "import pandas as pd\n",
    "import random\n",
    "import math\n",
    "import tensorflow as tf\n",
    "import logging\n",
    "from sklearn.metrics import mean_squared_error\n",
    "from sklearn.model_selection import KFold\n",
    "from tensorflow.keras import backend as K\n",
    "from transformers import RobertaTokenizerFast, TFRobertaModel\n",
    "from kaggle_datasets import KaggleDatasets\n",
    "tf.get_logger().setLevel(logging.ERROR)\n",
    "from kaggle_datasets import KaggleDatasets\n",
    "from keras.layers import Bidirectional, Concatenate, Permute, Dot, Input, LSTM, Multiply, Embedding, Reshape, Flatten, Dropout, GRU, Dense\n",
    "from keras.layers import RepeatVector, Dense, Activation, Lambda, Softmax, Conv1D\n",
    "from keras.optimizers import Adam, SGD\n",
    "from keras.utils import to_categorical\n",
    "from keras.models import load_model, Model\n",
    "from tensorflow.keras.callbacks import ReduceLROnPlateau,ModelCheckpoint, EarlyStopping ,LearningRateScheduler"
   ]
  },
  {
   "cell_type": "code",
   "execution_count": 2,
   "id": "typical-fiction",
   "metadata": {
    "execution": {
     "iopub.execute_input": "2021-06-09T01:05:20.059409Z",
     "iopub.status.busy": "2021-06-09T01:05:20.058802Z",
     "iopub.status.idle": "2021-06-09T01:05:42.379639Z",
     "shell.execute_reply": "2021-06-09T01:05:42.380484Z"
    },
    "papermill": {
     "duration": 22.331285,
     "end_time": "2021-06-09T01:05:42.380709",
     "exception": false,
     "start_time": "2021-06-09T01:05:20.049424",
     "status": "completed"
    },
    "tags": []
   },
   "outputs": [
    {
     "name": "stderr",
     "output_type": "stream",
     "text": [
      "All model checkpoint layers were used when initializing TFRobertaModel.\n",
      "\n",
      "All the layers of TFRobertaModel were initialized from the model checkpoint at ../input/initial-roberta-large/roberta-large.\n",
      "If your task is similar to the task the model of the checkpoint was trained on, you can already use TFRobertaModel for predictions without further training.\n"
     ]
    }
   ],
   "source": [
    "tokenizer = RobertaTokenizerFast.from_pretrained('../input/initial-tokenizer-large/tokenizer-large')\n",
    "roberta = TFRobertaModel.from_pretrained('../input/initial-roberta-large/roberta-large')"
   ]
  },
  {
   "cell_type": "code",
   "execution_count": 3,
   "id": "advisory-multimedia",
   "metadata": {
    "execution": {
     "iopub.execute_input": "2021-06-09T01:05:42.406378Z",
     "iopub.status.busy": "2021-06-09T01:05:42.405647Z",
     "iopub.status.idle": "2021-06-09T01:05:42.409813Z",
     "shell.execute_reply": "2021-06-09T01:05:42.409327Z"
    },
    "papermill": {
     "duration": 0.01929,
     "end_time": "2021-06-09T01:05:42.409928",
     "exception": false,
     "start_time": "2021-06-09T01:05:42.390638",
     "status": "completed"
    },
    "tags": []
   },
   "outputs": [],
   "source": [
    "# Tokenize a bunch of texts\n",
    "def tokenize_texts(texts, tokenizer, max_len):\n",
    "    tok = tokenizer.batch_encode_plus(texts.tolist(), \n",
    "                                          padding='max_length', \n",
    "                                          max_length=max_len, \n",
    "                                          truncation=True, \n",
    "                                          return_tensors='np')\n",
    "    return tok['input_ids'], tok['attention_mask']\n",
    "\n",
    "# Prepare sets\n",
    "def prepare_sets(is_train_csv, tokenizer, max_len):\n",
    "    # Retrieve dataframes\n",
    "    df = pd.read_csv('../input/commonlitreadabilityprize/' + is_train_csv)\n",
    "    \n",
    "    # Retrieve inputs: IDs and mask\n",
    "    excerpts  = df['excerpt']\n",
    "    tokenized = tokenize_texts(excerpts, tokenizer, max_len)\n",
    "    ids       = tokenized[0]\n",
    "    mask      = tokenized[1]\n",
    "    \n",
    "    # Retrieve labels\n",
    "    targets = None\n",
    "    if is_train_csv == 'train.csv':\n",
    "        targets   = np.array(df['target'])\n",
    "    \n",
    "    return ids, mask, targets, df"
   ]
  },
  {
   "cell_type": "code",
   "execution_count": 4,
   "id": "introductory-greek",
   "metadata": {
    "execution": {
     "iopub.execute_input": "2021-06-09T01:05:42.432547Z",
     "iopub.status.busy": "2021-06-09T01:05:42.431838Z",
     "iopub.status.idle": "2021-06-09T01:05:42.435401Z",
     "shell.execute_reply": "2021-06-09T01:05:42.434967Z"
    },
    "papermill": {
     "duration": 0.017243,
     "end_time": "2021-06-09T01:05:42.435536",
     "exception": false,
     "start_time": "2021-06-09T01:05:42.418293",
     "status": "completed"
    },
    "tags": []
   },
   "outputs": [],
   "source": [
    "# Function to transform arrays to tensors\n",
    "def transform_to_tensors(x_train, x_val, y_train, y_val):\n",
    "    \n",
    "    train_dataset = (\n",
    "        tf.data.Dataset\n",
    "        .from_tensor_slices(({'input_1': x_train[0], 'input_2': x_train[1]}, y_train))\n",
    "        .shuffle(2048)\n",
    "        .batch(8)\n",
    "        .prefetch(tf.data.experimental.AUTOTUNE)\n",
    "    )\n",
    "    \n",
    "    valid_dataset = (\n",
    "        tf.data.Dataset\n",
    "        .from_tensor_slices(({'input_1': x_val[0], 'input_2': x_val[1]}, y_val))\n",
    "        .batch(8)\n",
    "        .prefetch(tf.data.experimental.AUTOTUNE)\n",
    "    )\n",
    "    \n",
    "    return train_dataset, valid_dataset\n"
   ]
  },
  {
   "cell_type": "code",
   "execution_count": 5,
   "id": "varied-messenger",
   "metadata": {
    "execution": {
     "iopub.execute_input": "2021-06-09T01:05:42.457572Z",
     "iopub.status.busy": "2021-06-09T01:05:42.456902Z",
     "iopub.status.idle": "2021-06-09T01:05:42.460331Z",
     "shell.execute_reply": "2021-06-09T01:05:42.459908Z"
    },
    "papermill": {
     "duration": 0.017003,
     "end_time": "2021-06-09T01:05:42.460429",
     "exception": false,
     "start_time": "2021-06-09T01:05:42.443426",
     "status": "completed"
    },
    "tags": []
   },
   "outputs": [],
   "source": [
    "def create_model(max_len, learning_rate):\n",
    "    # Inputs: IDs and mask\n",
    "    ids = Input(shape=(max_len,), dtype='int64')\n",
    "    mask = Input(shape=(max_len,), dtype='int64')\n",
    "    \n",
    "    # Processing\n",
    "    x = roberta(input_ids=ids, attention_mask=mask)['last_hidden_state']\n",
    "    x = x[:, 0, :]\n",
    "    x = Dropout(0.5)(x)\n",
    "    x = Dense(1, activation='linear')(x)\n",
    "    \n",
    "    # Output\n",
    "    pred = x\n",
    "    \n",
    "    # Model\n",
    "    model = Model(inputs=[ids, mask], outputs=pred)\n",
    "    model.compile(optimizer = tf.keras.optimizers.Adam(lr = learning_rate, decay=1e-6),\n",
    "                  loss = [tf.keras.losses.MeanSquaredError()],\n",
    "                  metrics = [tf.keras.metrics.RootMeanSquaredError()])\n",
    "    return model"
   ]
  },
  {
   "cell_type": "code",
   "execution_count": 6,
   "id": "diverse-venezuela",
   "metadata": {
    "execution": {
     "iopub.execute_input": "2021-06-09T01:05:42.479001Z",
     "iopub.status.busy": "2021-06-09T01:05:42.478539Z",
     "iopub.status.idle": "2021-06-09T01:05:42.482342Z",
     "shell.execute_reply": "2021-06-09T01:05:42.481889Z"
    },
    "papermill": {
     "duration": 0.014533,
     "end_time": "2021-06-09T01:05:42.482440",
     "exception": false,
     "start_time": "2021-06-09T01:05:42.467907",
     "status": "completed"
    },
    "tags": []
   },
   "outputs": [],
   "source": [
    "# Function to seed everything\n",
    "def seed_everything(seed):\n",
    "    random.seed(seed)\n",
    "    np.random.seed(seed)\n",
    "    os.environ['PYTHONHASHSEED'] = str(seed)\n",
    "    tf.random.set_seed(seed)"
   ]
  },
  {
   "cell_type": "code",
   "execution_count": 7,
   "id": "cubic-ghana",
   "metadata": {
    "execution": {
     "iopub.execute_input": "2021-06-09T01:05:42.509919Z",
     "iopub.status.busy": "2021-06-09T01:05:42.508648Z",
     "iopub.status.idle": "2021-06-09T01:05:42.511051Z",
     "shell.execute_reply": "2021-06-09T01:05:42.511407Z"
    },
    "papermill": {
     "duration": 0.02126,
     "end_time": "2021-06-09T01:05:42.511520",
     "exception": false,
     "start_time": "2021-06-09T01:05:42.490260",
     "status": "completed"
    },
    "tags": []
   },
   "outputs": [],
   "source": [
    "def train_model(max_len, lr, batch, epoch_size, cp_path, seed):\n",
    "    # Prepare sets\n",
    "    train_set = prepare_sets('train.csv', tokenizer, max_len)\n",
    "    test_set = prepare_sets('test.csv', tokenizer, max_len)\n",
    "    \n",
    "    # Create model\n",
    "    model = create_model(max_len, lr)\n",
    "    model.summary()\n",
    "    \n",
    "    # Randomize\n",
    "    seed_everything(seed)\n",
    "    \n",
    "    checkpoint = tf.keras.callbacks.ModelCheckpoint(cp_path, \n",
    "                                                    monitor = 'val_root_mean_squared_error', \n",
    "                                                    verbose = 2, \n",
    "                                                    save_best_only = True,\n",
    "                                                    save_weights_only = True, \n",
    "                                                    mode = 'min')\n",
    "    \n",
    "    reduce_lr=ReduceLROnPlateau(monitor=\"val_root_mean_squared_error\",\n",
    "                                factor=0.2,\n",
    "                                patience=3,\n",
    "                                min_lr=1e-8)\n",
    "    \n",
    "    early_stopping=EarlyStopping(monitor=\"val_root_mean_squared_error\",\n",
    "                                 min_delta=0,\n",
    "                                 patience=3,\n",
    "                                 verbose=2,\n",
    "                                 mode=\"min\",\n",
    "                                 restore_best_weights=True)\n",
    "    \n",
    "    # Use k-fold CV\n",
    "    kfold = KFold(n_splits = 5, shuffle = True, random_state = seed)\n",
    "    out_of_fold_pred = np.zeros((len(train_set[2])))\n",
    "    \n",
    "    for fold, (trn_ind, val_ind) in enumerate(kfold.split(train_set[3])):\n",
    "        print('\\nFold', fold+1, '*'*50)\n",
    "        \n",
    "        sets = transform_to_tensors(x_train = (train_set[0][trn_ind], train_set[1][trn_ind]),\n",
    "                                    x_val = (train_set[0][val_ind], train_set[1][val_ind]),\n",
    "                                    y_train = train_set[2][trn_ind],\n",
    "                                    y_val = train_set[2][val_ind])\n",
    "    \n",
    "        model.fit(sets[0], \n",
    "                  batch_size=batch, epochs=epoch_size,\n",
    "                  validation_data = sets[1],\n",
    "                  callbacks = [checkpoint, reduce_lr, early_stopping])\n",
    "    \n",
    "        model.load_weights(cp_path)\n",
    "        cv_pred = model.predict(sets[1])\n",
    "        out_of_fold_pred[val_ind] = cv_pred.reshape(-1)\n",
    "    \n",
    "    cv_rmse = np.sqrt(mean_squared_error(train_set[2], out_of_fold_pred))\n",
    "    print('Out-of-fold Root Mean Square Error is:', cv_rmse)\n",
    "    \n",
    "    # Predict test\n",
    "    test_pred = model.predict([test_set[0], test_set[1]], test_set[2])\n",
    "    \n",
    "    return test_pred, model"
   ]
  },
  {
   "cell_type": "code",
   "execution_count": 8,
   "id": "frequent-perth",
   "metadata": {
    "execution": {
     "iopub.execute_input": "2021-06-09T01:05:42.532698Z",
     "iopub.status.busy": "2021-06-09T01:05:42.532212Z",
     "iopub.status.idle": "2021-06-09T02:51:08.399429Z",
     "shell.execute_reply": "2021-06-09T02:51:08.399869Z"
    },
    "papermill": {
     "duration": 6325.88098,
     "end_time": "2021-06-09T02:51:08.400069",
     "exception": false,
     "start_time": "2021-06-09T01:05:42.519089",
     "status": "completed"
    },
    "tags": []
   },
   "outputs": [
    {
     "name": "stdout",
     "output_type": "stream",
     "text": [
      "Model: \"model\"\n",
      "__________________________________________________________________________________________________\n",
      "Layer (type)                    Output Shape         Param #     Connected to                     \n",
      "==================================================================================================\n",
      "input_1 (InputLayer)            [(None, 256)]        0                                            \n",
      "__________________________________________________________________________________________________\n",
      "input_2 (InputLayer)            [(None, 256)]        0                                            \n",
      "__________________________________________________________________________________________________\n",
      "tf_roberta_model (TFRobertaMode TFBaseModelOutputWit 355359744   input_1[0][0]                    \n",
      "                                                                 input_2[0][0]                    \n",
      "__________________________________________________________________________________________________\n",
      "tf.__operators__.getitem (Slici (None, 1024)         0           tf_roberta_model[0][0]           \n",
      "__________________________________________________________________________________________________\n",
      "dropout_73 (Dropout)            (None, 1024)         0           tf.__operators__.getitem[0][0]   \n",
      "__________________________________________________________________________________________________\n",
      "dense (Dense)                   (None, 1)            1025        dropout_73[0][0]                 \n",
      "==================================================================================================\n",
      "Total params: 355,360,769\n",
      "Trainable params: 355,360,769\n",
      "Non-trainable params: 0\n",
      "__________________________________________________________________________________________________\n",
      "\n",
      "Fold 1 **************************************************\n",
      "Epoch 1/5\n",
      "284/284 [==============================] - 300s 959ms/step - loss: 5.2495 - root_mean_squared_error: 2.2837 - val_loss: 0.4845 - val_root_mean_squared_error: 0.6961\n",
      "\n",
      "Epoch 00001: val_root_mean_squared_error improved from inf to 0.69609, saving model to checkpoint_roberta_large.h5\n",
      "Epoch 2/5\n",
      "284/284 [==============================] - 267s 939ms/step - loss: 1.4334 - root_mean_squared_error: 1.1958 - val_loss: 0.2980 - val_root_mean_squared_error: 0.5459\n",
      "\n",
      "Epoch 00002: val_root_mean_squared_error improved from 0.69609 to 0.54593, saving model to checkpoint_roberta_large.h5\n",
      "Epoch 3/5\n",
      "284/284 [==============================] - 267s 939ms/step - loss: 0.6821 - root_mean_squared_error: 0.8256 - val_loss: 0.4541 - val_root_mean_squared_error: 0.6739\n",
      "\n",
      "Epoch 00003: val_root_mean_squared_error did not improve from 0.54593\n",
      "Epoch 4/5\n",
      "284/284 [==============================] - 267s 939ms/step - loss: 0.4443 - root_mean_squared_error: 0.6664 - val_loss: 0.7342 - val_root_mean_squared_error: 0.8569\n",
      "\n",
      "Epoch 00004: val_root_mean_squared_error did not improve from 0.54593\n",
      "Epoch 5/5\n",
      "284/284 [==============================] - 267s 939ms/step - loss: 0.3648 - root_mean_squared_error: 0.6037 - val_loss: 0.3058 - val_root_mean_squared_error: 0.5530\n",
      "\n",
      "Epoch 00005: val_root_mean_squared_error did not improve from 0.54593\n",
      "Restoring model weights from the end of the best epoch.\n",
      "Epoch 00005: early stopping\n",
      "\n",
      "Fold 2 **************************************************\n",
      "Epoch 1/5\n",
      "284/284 [==============================] - 267s 939ms/step - loss: 0.6040 - root_mean_squared_error: 0.7772 - val_loss: 0.3321 - val_root_mean_squared_error: 0.5763\n",
      "\n",
      "Epoch 00001: val_root_mean_squared_error did not improve from 0.54593\n",
      "Epoch 2/5\n",
      "284/284 [==============================] - 267s 939ms/step - loss: 0.4949 - root_mean_squared_error: 0.7035 - val_loss: 0.4188 - val_root_mean_squared_error: 0.6471\n",
      "\n",
      "Epoch 00002: val_root_mean_squared_error did not improve from 0.54593\n",
      "Epoch 3/5\n",
      "284/284 [==============================] - 267s 939ms/step - loss: 0.4367 - root_mean_squared_error: 0.6608 - val_loss: 0.3989 - val_root_mean_squared_error: 0.6316\n",
      "\n",
      "Epoch 00003: val_root_mean_squared_error did not improve from 0.54593\n",
      "Epoch 4/5\n",
      "284/284 [==============================] - 267s 939ms/step - loss: 0.3820 - root_mean_squared_error: 0.6181 - val_loss: 0.2570 - val_root_mean_squared_error: 0.5069\n",
      "\n",
      "Epoch 00004: val_root_mean_squared_error improved from 0.54593 to 0.50694, saving model to checkpoint_roberta_large.h5\n",
      "Epoch 5/5\n",
      "284/284 [==============================] - 267s 939ms/step - loss: 0.3199 - root_mean_squared_error: 0.5656 - val_loss: 0.2794 - val_root_mean_squared_error: 0.5286\n",
      "\n",
      "Epoch 00005: val_root_mean_squared_error did not improve from 0.50694\n",
      "\n",
      "Fold 3 **************************************************\n",
      "Epoch 1/5\n",
      "284/284 [==============================] - 267s 940ms/step - loss: 0.3258 - root_mean_squared_error: 0.5708 - val_loss: 0.2600 - val_root_mean_squared_error: 0.5099\n",
      "\n",
      "Epoch 00001: val_root_mean_squared_error did not improve from 0.50694\n",
      "Epoch 2/5\n",
      "284/284 [==============================] - 267s 940ms/step - loss: 0.3030 - root_mean_squared_error: 0.5505 - val_loss: 0.4249 - val_root_mean_squared_error: 0.6519\n",
      "\n",
      "Epoch 00002: val_root_mean_squared_error did not improve from 0.50694\n",
      "Epoch 3/5\n",
      "284/284 [==============================] - 267s 940ms/step - loss: 0.2503 - root_mean_squared_error: 0.5003 - val_loss: 0.3416 - val_root_mean_squared_error: 0.5845\n",
      "\n",
      "Epoch 00003: val_root_mean_squared_error did not improve from 0.50694\n",
      "Epoch 4/5\n",
      "284/284 [==============================] - 267s 940ms/step - loss: 0.2196 - root_mean_squared_error: 0.4686 - val_loss: 0.4566 - val_root_mean_squared_error: 0.6758\n",
      "\n",
      "Epoch 00004: val_root_mean_squared_error did not improve from 0.50694\n",
      "Restoring model weights from the end of the best epoch.\n",
      "Epoch 00004: early stopping\n",
      "\n",
      "Fold 4 **************************************************\n",
      "Epoch 1/5\n",
      "284/284 [==============================] - 267s 940ms/step - loss: 0.3391 - root_mean_squared_error: 0.5823 - val_loss: 0.3040 - val_root_mean_squared_error: 0.5514\n",
      "\n",
      "Epoch 00001: val_root_mean_squared_error did not improve from 0.50694\n",
      "Epoch 2/5\n",
      "284/284 [==============================] - 267s 941ms/step - loss: 0.3235 - root_mean_squared_error: 0.5688 - val_loss: 0.2847 - val_root_mean_squared_error: 0.5335\n",
      "\n",
      "Epoch 00002: val_root_mean_squared_error did not improve from 0.50694\n",
      "Epoch 3/5\n",
      "284/284 [==============================] - 267s 941ms/step - loss: 0.2981 - root_mean_squared_error: 0.5460 - val_loss: 0.4077 - val_root_mean_squared_error: 0.6385\n",
      "\n",
      "Epoch 00003: val_root_mean_squared_error did not improve from 0.50694\n",
      "Epoch 4/5\n",
      "284/284 [==============================] - 267s 941ms/step - loss: 0.2817 - root_mean_squared_error: 0.5307 - val_loss: 0.2868 - val_root_mean_squared_error: 0.5355\n",
      "\n",
      "Epoch 00004: val_root_mean_squared_error did not improve from 0.50694\n",
      "Epoch 5/5\n",
      "284/284 [==============================] - 267s 941ms/step - loss: 0.2729 - root_mean_squared_error: 0.5224 - val_loss: 0.3745 - val_root_mean_squared_error: 0.6120\n",
      "\n",
      "Epoch 00005: val_root_mean_squared_error did not improve from 0.50694\n",
      "Restoring model weights from the end of the best epoch.\n",
      "Epoch 00005: early stopping\n",
      "\n",
      "Fold 5 **************************************************\n",
      "Epoch 1/5\n",
      "284/284 [==============================] - 268s 942ms/step - loss: 0.3296 - root_mean_squared_error: 0.5741 - val_loss: 0.3062 - val_root_mean_squared_error: 0.5534\n",
      "\n",
      "Epoch 00001: val_root_mean_squared_error did not improve from 0.50694\n",
      "Epoch 2/5\n",
      "284/284 [==============================] - 267s 942ms/step - loss: 0.3116 - root_mean_squared_error: 0.5582 - val_loss: 0.3758 - val_root_mean_squared_error: 0.6130\n",
      "\n",
      "Epoch 00002: val_root_mean_squared_error did not improve from 0.50694\n",
      "Epoch 3/5\n",
      "284/284 [==============================] - 267s 942ms/step - loss: 0.3103 - root_mean_squared_error: 0.5571 - val_loss: 0.3136 - val_root_mean_squared_error: 0.5600\n",
      "\n",
      "Epoch 00003: val_root_mean_squared_error did not improve from 0.50694\n",
      "Epoch 4/5\n",
      "284/284 [==============================] - 267s 941ms/step - loss: 0.3001 - root_mean_squared_error: 0.5478 - val_loss: 0.3495 - val_root_mean_squared_error: 0.5912\n",
      "\n",
      "Epoch 00004: val_root_mean_squared_error did not improve from 0.50694\n",
      "Restoring model weights from the end of the best epoch.\n",
      "Epoch 00004: early stopping\n",
      "Out-of-fold Root Mean Square Error is: 0.45653272468135103\n"
     ]
    }
   ],
   "source": [
    "MAX_LEN = 256\n",
    "LR = 2e-5\n",
    "BATCH_SIZE = 8\n",
    "EPOCHS = 5\n",
    "CP_PATH = 'checkpoint_roberta_large.h5'\n",
    "SEED = 2048\n",
    "\n",
    "result = train_model(MAX_LEN, LR, BATCH_SIZE, EPOCHS, CP_PATH, SEED)\n",
    "test_pred = result[0]"
   ]
  },
  {
   "cell_type": "code",
   "execution_count": 9,
   "id": "starting-steal",
   "metadata": {
    "execution": {
     "iopub.execute_input": "2021-06-09T02:51:11.876254Z",
     "iopub.status.busy": "2021-06-09T02:51:11.875441Z",
     "iopub.status.idle": "2021-06-09T02:51:12.028466Z",
     "shell.execute_reply": "2021-06-09T02:51:12.027511Z"
    },
    "papermill": {
     "duration": 1.844696,
     "end_time": "2021-06-09T02:51:12.028593",
     "exception": false,
     "start_time": "2021-06-09T02:51:10.183897",
     "status": "completed"
    },
    "tags": []
   },
   "outputs": [],
   "source": [
    "test_df = pd.read_csv('../input/commonlitreadabilityprize/test.csv')\n",
    "pred_df = {'id': test_df['id'], 'target': test_pred.reshape(-1)}\n",
    "pd.DataFrame(pred_df).to_csv('submission.csv', index=False)"
   ]
  },
  {
   "cell_type": "code",
   "execution_count": null,
   "id": "present-motorcycle",
   "metadata": {
    "papermill": {
     "duration": 1.648875,
     "end_time": "2021-06-09T02:51:15.327748",
     "exception": false,
     "start_time": "2021-06-09T02:51:13.678873",
     "status": "completed"
    },
    "tags": []
   },
   "outputs": [],
   "source": []
  }
 ],
 "metadata": {
  "kernelspec": {
   "display_name": "Python 3",
   "language": "python",
   "name": "python3"
  },
  "language_info": {
   "codemirror_mode": {
    "name": "ipython",
    "version": 3
   },
   "file_extension": ".py",
   "mimetype": "text/x-python",
   "name": "python",
   "nbconvert_exporter": "python",
   "pygments_lexer": "ipython3",
   "version": "3.7.10"
  },
  "papermill": {
   "default_parameters": {},
   "duration": 6372.320091,
   "end_time": "2021-06-09T02:51:20.306658",
   "environment_variables": {},
   "exception": null,
   "input_path": "__notebook__.ipynb",
   "output_path": "__notebook__.ipynb",
   "parameters": {},
   "start_time": "2021-06-09T01:05:07.986567",
   "version": "2.3.3"
  }
 },
 "nbformat": 4,
 "nbformat_minor": 5
}
